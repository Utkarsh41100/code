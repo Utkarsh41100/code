{
 "cells": [
  {
   "cell_type": "code",
   "execution_count": 7,
   "metadata": {},
   "outputs": [
    {
     "name": "stdout",
     "output_type": "stream",
     "text": [
      "deque([3, 4])\n",
      "deque([3, 4])\n"
     ]
    }
   ],
   "source": [
    "from collections import deque\n",
    "stack=deque\n",
    "class Stack:\n",
    "    def __init__(self):\n",
    "        self.stack=deque()\n",
    "    def push(self,val):\n",
    "        self.stack.append(val)\n",
    "    def isempty(self):\n",
    "        return len(self.stack)==0\n",
    "    def peek(self):\n",
    "        print(self.stack)    \n",
    "    def pop(self):\n",
    "        self.stack.pop()\n",
    "a=Stack()\n",
    "a.push(3)   \n",
    "a.push(4) \n",
    "a.peek()\n",
    "a.push(5) \n",
    "a.pop()\n",
    "a.isempty()\n",
    "a.peek()     \n"
   ]
  },
  {
   "cell_type": "code",
   "execution_count": null,
   "metadata": {},
   "outputs": [],
   "source": []
  }
 ],
 "metadata": {
  "kernelspec": {
   "display_name": "Python 3",
   "language": "python",
   "name": "python3"
  },
  "language_info": {
   "codemirror_mode": {
    "name": "ipython",
    "version": 3
   },
   "file_extension": ".py",
   "mimetype": "text/x-python",
   "name": "python",
   "nbconvert_exporter": "python",
   "pygments_lexer": "ipython3",
   "version": "3.12.1"
  }
 },
 "nbformat": 4,
 "nbformat_minor": 2
}
