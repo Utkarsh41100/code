{
 "cells": [
  {
   "cell_type": "code",
   "execution_count": 10,
   "metadata": {},
   "outputs": [
    {
     "name": "stdout",
     "output_type": "stream",
     "text": [
      "<__main__.Student object at 0x0000026292B41250>\n",
      "<__main__.Student object at 0x0000026292B40FB0>\n",
      "<__main__.Student object at 0x0000026292B42AE0>\n"
     ]
    }
   ],
   "source": [
    "class Student:\n",
    "    def __init__(self, name, trade, reg_number):\n",
    "        self.name = name\n",
    "        self.trade = trade\n",
    "        self.reg_number = reg_number\n",
    "\n",
    "class Node:\n",
    "    def __init__(self, data):\n",
    "        self.data = data\n",
    "        self.next = None\n",
    "\n",
    "class LinkedList:\n",
    "    def __init__(self):\n",
    "        self.head = None\n",
    "\n",
    "    def insert_at_end(self, data):\n",
    "        new_node = Node(data)\n",
    "        if self.head is None:\n",
    "            self.head = new_node\n",
    "        else:\n",
    "            current = self.head\n",
    "            while current.next is not None:\n",
    "                current = current.next\n",
    "            current.next = new_node\n",
    "\n",
    "    def insert_at_beginning(self, data):\n",
    "        new_node = Node(data)\n",
    "        new_node.next = self.head\n",
    "        self.head = new_node\n",
    "    def display(self):\n",
    "        current=self.head\n",
    "        while current is not None:\n",
    "            print(current.data)\n",
    "            current=current.next    \n",
    "\n",
    "    # Other methods like insert_at_index, deleteatbeg, deleteatlast, deleteatindex, display remain unchanged\n",
    "\n",
    "# Testing the LinkedList\n",
    "\n",
    "first = LinkedList()\n",
    "first.insert_at_beginning(Student(\"Alice\", \"Computer Science\", \"CS101\"))\n",
    "first.insert_at_end(Student(\"Bob\", \"Electrical Engineering\", \"EE201\"))\n",
    "first.insert_at_end(Student(\"Charlie\", \"Mechanical Engineering\", \"ME301\"))\n",
    "first.display()\n"
   ]
  },
  {
   "cell_type": "markdown",
   "metadata": {},
   "source": [
    "Project Idea: Music Playlist Manager\n",
    "\n",
    "Description:\n",
    "Create a music playlist manager application using linked lists. This application allows users to create, edit, and manage playlists of songs.\n",
    "\n",
    "Features:\n",
    "\n",
    "Song Database: Implement a linked list to store information about songs. Each node of the linked list can represent a song, containing attributes such as song title, artist, album, duration, etc.\n",
    "Playlist Creation: Allow users to create multiple playlists. Each playlist will be represented by a separate linked list, where each node contains a reference to a song in the song database.\n",
    "Playlist Operations: Implement operations such as adding songs to a playlist, removing songs from a playlist, and displaying the contents of a playlist.\n",
    "Playlist Management: Enable users to rename playlists, delete playlists, and reorder songs within a playlist.\n",
    "Playback Functionality: Add basic playback functionality to play songs from the playlist. You can simulate playback by printing the details of the currently playing song (title, artist, duration).\n",
    "Search and Sorting: Implement search functionality to find songs by title, artist, or album. Additionally, allow users to sort songs within a playlist based on different criteria (e.g., title, artist, duration).\n",
    "User Interface (Optional): If you're comfortable with GUI frameworks like Tkinter or PyQt, consider creating a graphical user interface (GUI) for your application to enhance user experience.\n",
    "Implementation Tips:\n",
    "\n",
    "Start by designing the classes and data structures for songs and playlists. Plan how they will interact with each other.\n",
    "Implement basic operations such as insertion, deletion, and traversal for linked lists.\n",
    "Test each functionality thoroughly to ensure correctness and robustness.\n",
    "Consider error handling and edge cases, such as handling empty playlists or invalid input.\n",
    "Extensions:\n",
    "\n",
    "Implement additional features such as shuffle, repeat, and skip functionality.\n",
    "Integrate file I/O to load and save playlists from/to disk.\n",
    "Explore advanced data structures like doubly linked lists or circular linked lists for more efficient operations.\n",
    "Enhance the user interface with features like album artwork display, song progress bar, or keyboard shortcuts.\n",
    "Building a music playlist manager using linked lists will not only reinforce your understanding of linked list operations but also provide a practical application to showcase your programming skills. Have fun coding!\n",
    "\n",
    "Take a hint from this code "
   ]
  }
 ],
 "metadata": {
  "kernelspec": {
   "display_name": "Python 3",
   "language": "python",
   "name": "python3"
  },
  "language_info": {
   "codemirror_mode": {
    "name": "ipython",
    "version": 3
   },
   "file_extension": ".py",
   "mimetype": "text/x-python",
   "name": "python",
   "nbconvert_exporter": "python",
   "pygments_lexer": "ipython3",
   "version": "3.12.1"
  }
 },
 "nbformat": 4,
 "nbformat_minor": 2
}
