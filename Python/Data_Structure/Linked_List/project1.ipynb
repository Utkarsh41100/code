{
 "cells": [
  {
   "cell_type": "markdown",
   "metadata": {},
   "source": [
    "Project Idea: Music Playlist Manager\n",
    "\n",
    "Description:\n",
    "Create a music playlist manager application using linked lists. This application allows users to create, edit, and manage playlists of songs.\n",
    "\n",
    "Features:\n",
    "\n",
    "Song Database: Implement a linked list to store information about songs. Each node of the linked list can represent a song, containing attributes such as song title, artist, album, duration, etc.\n",
    "Playlist Creation: Allow users to create multiple playlists. Each playlist will be represented by a separate linked list, where each node contains a reference to a song in the song database.\n",
    "Playlist Operations: Implement operations such as adding songs to a playlist, removing songs from a playlist, and displaying the contents of a playlist.\n",
    "Playlist Management: Enable users to rename playlists, delete playlists, and reorder songs within a playlist.\n",
    "Playback Functionality: Add basic playback functionality to play songs from the playlist. You can simulate playback by printing the details of the currently playing song (title, artist, duration).\n",
    "Search and Sorting: Implement search functionality to find songs by title, artist, or album. Additionally, allow users to sort songs within a playlist based on different criteria (e.g., title, artist, duration).\n",
    "User Interface (Optional): If you're comfortable with GUI frameworks like Tkinter or PyQt, consider creating a graphical user interface (GUI) for your application to enhance user experience.\n",
    "Implementation Tips:\n",
    "\n",
    "Start by designing the classes and data structures for songs and playlists. Plan how they will interact with each other.\n",
    "Implement basic operations such as insertion, deletion, and traversal for linked lists.\n",
    "Test each functionality thoroughly to ensure correctness and robustness.\n",
    "Consider error handling and edge cases, such as handling empty playlists or invalid input.\n",
    "Extensions:\n",
    "\n",
    "Implement additional features such as shuffle, repeat, and skip functionality.\n",
    "Integrate file I/O to load and save playlists from/to disk.\n",
    "Explore advanced data structures like doubly linked lists or circular linked lists for more efficient operations.\n",
    "Enhance the user interface with features like album artwork display, song progress bar, or keyboard shortcuts.\n",
    "Building a music playlist manager using linked lists will not only reinforce your understanding of linked list operations but also provide a practical application to showcase your programming skills. Have fun coding!\n",
    "\n",
    "Take a hint from this code "
   ]
  },
  {
   "cell_type": "code",
   "execution_count": 4,
   "metadata": {},
   "outputs": [
    {
     "ename": "AttributeError",
     "evalue": "'NoneType' object has no attribute 'data'",
     "output_type": "error",
     "traceback": [
      "\u001b[1;31m---------------------------------------------------------------------------\u001b[0m",
      "\u001b[1;31mAttributeError\u001b[0m                            Traceback (most recent call last)",
      "Cell \u001b[1;32mIn[4], line 58\u001b[0m\n\u001b[0;32m     56\u001b[0m Child2\u001b[38;5;241m.\u001b[39mInsertAtBeg(\u001b[38;5;241m500\u001b[39m)\n\u001b[0;32m     57\u001b[0m Parent\u001b[38;5;241m=\u001b[39mList()   \n\u001b[1;32m---> 58\u001b[0m \u001b[43mParent\u001b[49m\u001b[38;5;241;43m.\u001b[39;49m\u001b[43mList_Append\u001b[49m\u001b[43m(\u001b[49m\u001b[43mChild1\u001b[49m\u001b[43m)\u001b[49m \n\u001b[0;32m     59\u001b[0m Parent\u001b[38;5;241m.\u001b[39mList_Append(Child2)   \n\u001b[0;32m     60\u001b[0m Parent\u001b[38;5;241m.\u001b[39mDisplay()      \n",
      "Cell \u001b[1;32mIn[4], line 42\u001b[0m, in \u001b[0;36mList.List_Append\u001b[1;34m(self, LinkedList)\u001b[0m\n\u001b[0;32m     40\u001b[0m \u001b[38;5;28;01mwhile\u001b[39;00m current \u001b[38;5;129;01mis\u001b[39;00m \u001b[38;5;129;01mnot\u001b[39;00m \u001b[38;5;28;01mNone\u001b[39;00m :\n\u001b[0;32m     41\u001b[0m     current\u001b[38;5;241m=\u001b[39mcurrent\u001b[38;5;241m.\u001b[39mnext\n\u001b[1;32m---> 42\u001b[0m     \u001b[38;5;28mself\u001b[39m\u001b[38;5;241m.\u001b[39mInsertAtLast(\u001b[43mcurrent\u001b[49m\u001b[38;5;241;43m.\u001b[39;49m\u001b[43mdata\u001b[49m)\n\u001b[0;32m     43\u001b[0m     current\u001b[38;5;241m=\u001b[39mcurrent\u001b[38;5;241m.\u001b[39mnext\n",
      "\u001b[1;31mAttributeError\u001b[0m: 'NoneType' object has no attribute 'data'"
     ]
    }
   ],
   "source": [
    "# class song:\n",
    "#     def __init__(self,Song_Name,Artist,Duration,Album):\n",
    "#         self.Song_Name=Song_Name\n",
    "#         self.Artist=Artist\n",
    "#         self.Duration=Duration\n",
    "#         self.Album=Album\n",
    "class Node:\n",
    "    def __init__(self,data):\n",
    "        self.data=data\n",
    "        self.next=None\n",
    "        self.prev=None \n",
    "class List:\n",
    "    def __init__(self):\n",
    "        self.head=None\n",
    "    def InsertAtLast(self,data):\n",
    "        Newnode=Node(data)\n",
    "        if self.head==None:\n",
    "            self.head=Newnode\n",
    "            Newnode.next=None\n",
    "            Newnode.prev=None\n",
    "        else:\n",
    "            current=self.head\n",
    "            while current.next is not None:\n",
    "                current=current.Next\n",
    "            Newnode.prev=current\n",
    "            current.next=Newnode\n",
    "            Newnode.Next=None\n",
    "    def InsertAtBeg(self,data):\n",
    "        Newnode=Node(data)\n",
    "        if self.head==None:\n",
    "            self.head=Newnode\n",
    "            Newnode.prev=None\n",
    "            Newnode.next=None\n",
    "        else:\n",
    "            Newnode.next=self.head\n",
    "            Newnode.prev=None\n",
    "            self.head=Newnode\n",
    "    def List_Append(self,LinkedList):\n",
    "        pass \n",
    "    def Display(self):    \n",
    "        current=self.head\n",
    "        while current is not None:\n",
    "            print(current.data)\n",
    "            current=current.next        \n",
    "Child1=List()\n",
    "Child1.InsertAtBeg(1)\n",
    "Child1.InsertAtBeg(20)\n",
    "Child1.InsertAtBeg(30)\n",
    "Child2=List()\n",
    "Child2.InsertAtBeg(100)\n",
    "Child2.InsertAtBeg(300)\n",
    "Child2.InsertAtBeg(500)\n",
    "Parent=List()   \n",
    "Parent.List_Append(Child1) \n",
    "Parent.List_Append(Child2)   \n",
    "Parent.Display()      \n"
   ]
  },
  {
   "cell_type": "code",
   "execution_count": null,
   "metadata": {},
   "outputs": [],
   "source": []
  }
 ],
 "metadata": {
  "kernelspec": {
   "display_name": "Python 3",
   "language": "python",
   "name": "python3"
  },
  "language_info": {
   "codemirror_mode": {
    "name": "ipython",
    "version": 3
   },
   "file_extension": ".py",
   "mimetype": "text/x-python",
   "name": "python",
   "nbconvert_exporter": "python",
   "pygments_lexer": "ipython3",
   "version": "3.12.1"
  }
 },
 "nbformat": 4,
 "nbformat_minor": 2
}
